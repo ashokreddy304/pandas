{
 "cells": [
  {
   "cell_type": "markdown",
   "id": "4cb84c9d-a743-4160-8d2e-4c2348c52f58",
   "metadata": {},
   "source": [
    "# Data Imputation"
   ]
  },
  {
   "cell_type": "markdown",
   "id": "fab09187-53fc-4ffe-990a-6e59575038da",
   "metadata": {},
   "source": [
    "Data Imputation means **Filling in missing values** instead of dropping them. so you keep as much data as possible."
   ]
  },
  {
   "cell_type": "markdown",
   "id": "1fa74bc7-fea4-4e11-ac6e-d83ddae0858a",
   "metadata": {},
   "source": [
    "### Types of imputation\n",
    "#### 1. Simple imputation -> fast but may ignore data patterns."
   ]
  },
  {
   "cell_type": "markdown",
   "id": "c9c9eb8c-61d2-4494-998d-7c0d9fd1b732",
   "metadata": {},
   "source": [
    "| Method                | Description                                         | When to Use                                        |\n",
    "| --------------------- | --------------------------------------------------- | -------------------------------------------------- |\n",
    "| **Mean Imputation**   | Replace missing values with the column mean         | Numeric data, symmetric distribution               |\n",
    "| **Median Imputation** | Replace missing values with the column median       | Numeric data, skewed distribution or with outliers |\n",
    "| **Mode Imputation**   | Replace missing values with the most frequent value | Categorical data                                   |\n",
    "| **Constant Value**    | Replace with a fixed value (e.g., 0, \"Unknown\")     | When missing means a special category              |\n"
   ]
  },
  {
   "cell_type": "code",
   "execution_count": 55,
   "id": "a07e5515-e350-4234-81d1-1bbb650181fc",
   "metadata": {},
   "outputs": [],
   "source": [
    "import pandas as pd\n",
    "import numpy as np\n",
    "import seaborn as sns\n",
    "import matplotlib.pyplot as plt\n",
    "import matplotlib.image as mpimg\n",
    "import warnings\n",
    "warnings.filterwarnings('ignore')"
   ]
  },
  {
   "cell_type": "code",
   "execution_count": 19,
   "id": "1b1c8a06-978f-4924-a070-86c723b5932d",
   "metadata": {},
   "outputs": [
    {
     "data": {
      "text/html": [
       "<div>\n",
       "<style scoped>\n",
       "    .dataframe tbody tr th:only-of-type {\n",
       "        vertical-align: middle;\n",
       "    }\n",
       "\n",
       "    .dataframe tbody tr th {\n",
       "        vertical-align: top;\n",
       "    }\n",
       "\n",
       "    .dataframe thead th {\n",
       "        text-align: right;\n",
       "    }\n",
       "</style>\n",
       "<table border=\"1\" class=\"dataframe\">\n",
       "  <thead>\n",
       "    <tr style=\"text-align: right;\">\n",
       "      <th></th>\n",
       "      <th>Age</th>\n",
       "      <th>Salary</th>\n",
       "      <th>Gender</th>\n",
       "    </tr>\n",
       "  </thead>\n",
       "  <tbody>\n",
       "    <tr>\n",
       "      <th>0</th>\n",
       "      <td>25.0</td>\n",
       "      <td>37039.0</td>\n",
       "      <td>Male</td>\n",
       "    </tr>\n",
       "    <tr>\n",
       "      <th>1</th>\n",
       "      <td>30.0</td>\n",
       "      <td>75152.0</td>\n",
       "      <td>Female</td>\n",
       "    </tr>\n",
       "    <tr>\n",
       "      <th>2</th>\n",
       "      <td>35.0</td>\n",
       "      <td>49751.0</td>\n",
       "      <td>Male</td>\n",
       "    </tr>\n",
       "    <tr>\n",
       "      <th>3</th>\n",
       "      <td>40.0</td>\n",
       "      <td>43694.0</td>\n",
       "      <td>Male</td>\n",
       "    </tr>\n",
       "    <tr>\n",
       "      <th>4</th>\n",
       "      <td>45.0</td>\n",
       "      <td>32544.0</td>\n",
       "      <td>Female</td>\n",
       "    </tr>\n",
       "    <tr>\n",
       "      <th>5</th>\n",
       "      <td>NaN</td>\n",
       "      <td>32544.0</td>\n",
       "      <td>Male</td>\n",
       "    </tr>\n",
       "    <tr>\n",
       "      <th>6</th>\n",
       "      <td>55.0</td>\n",
       "      <td>30898.0</td>\n",
       "      <td>Female</td>\n",
       "    </tr>\n",
       "    <tr>\n",
       "      <th>7</th>\n",
       "      <td>60.0</td>\n",
       "      <td>NaN</td>\n",
       "      <td>Female</td>\n",
       "    </tr>\n",
       "    <tr>\n",
       "      <th>8</th>\n",
       "      <td>65.0</td>\n",
       "      <td>60168.0</td>\n",
       "      <td>Male</td>\n",
       "    </tr>\n",
       "    <tr>\n",
       "      <th>9</th>\n",
       "      <td>70.0</td>\n",
       "      <td>43786.0</td>\n",
       "      <td>NaN</td>\n",
       "    </tr>\n",
       "  </tbody>\n",
       "</table>\n",
       "</div>"
      ],
      "text/plain": [
       "    Age   Salary  Gender\n",
       "0  25.0  37039.0    Male\n",
       "1  30.0  75152.0  Female\n",
       "2  35.0  49751.0    Male\n",
       "3  40.0  43694.0    Male\n",
       "4  45.0  32544.0  Female\n",
       "5   NaN  32544.0    Male\n",
       "6  55.0  30898.0  Female\n",
       "7  60.0      NaN  Female\n",
       "8  65.0  60168.0    Male\n",
       "9  70.0  43786.0     NaN"
      ]
     },
     "execution_count": 19,
     "metadata": {},
     "output_type": "execute_result"
    }
   ],
   "source": [
    "df1 = pd.DataFrame({\n",
    "    'Age': [25, 30, 35, 40, 45, np.nan, 55, 60, 65, 70],  # 1 NaN → 10% here, but reduce rows to <5% in real data\n",
    "    'Salary': [50000, 52000, 54000, 56000, 58000, 60000, 62000, np.nan, 66000, 68000],\n",
    "    'Gender': ['Male', 'Female', 'Male', 'Male', 'Female', 'Male', 'Female', 'Female', 'Male', np.nan]\n",
    "})"
   ]
  },
  {
   "cell_type": "code",
   "execution_count": 4,
   "id": "5ad61377-b9d7-4cd5-954e-52485bda9163",
   "metadata": {},
   "outputs": [
    {
     "data": {
      "text/html": [
       "<div>\n",
       "<style scoped>\n",
       "    .dataframe tbody tr th:only-of-type {\n",
       "        vertical-align: middle;\n",
       "    }\n",
       "\n",
       "    .dataframe tbody tr th {\n",
       "        vertical-align: top;\n",
       "    }\n",
       "\n",
       "    .dataframe thead th {\n",
       "        text-align: right;\n",
       "    }\n",
       "</style>\n",
       "<table border=\"1\" class=\"dataframe\">\n",
       "  <thead>\n",
       "    <tr style=\"text-align: right;\">\n",
       "      <th></th>\n",
       "      <th>Age</th>\n",
       "      <th>Salary</th>\n",
       "      <th>Gender</th>\n",
       "    </tr>\n",
       "  </thead>\n",
       "  <tbody>\n",
       "    <tr>\n",
       "      <th>0</th>\n",
       "      <td>25.0</td>\n",
       "      <td>50000.0</td>\n",
       "      <td>Male</td>\n",
       "    </tr>\n",
       "    <tr>\n",
       "      <th>1</th>\n",
       "      <td>30.0</td>\n",
       "      <td>52000.0</td>\n",
       "      <td>Female</td>\n",
       "    </tr>\n",
       "    <tr>\n",
       "      <th>2</th>\n",
       "      <td>35.0</td>\n",
       "      <td>54000.0</td>\n",
       "      <td>Male</td>\n",
       "    </tr>\n",
       "    <tr>\n",
       "      <th>3</th>\n",
       "      <td>40.0</td>\n",
       "      <td>56000.0</td>\n",
       "      <td>Male</td>\n",
       "    </tr>\n",
       "    <tr>\n",
       "      <th>4</th>\n",
       "      <td>45.0</td>\n",
       "      <td>58000.0</td>\n",
       "      <td>Female</td>\n",
       "    </tr>\n",
       "  </tbody>\n",
       "</table>\n",
       "</div>"
      ],
      "text/plain": [
       "    Age   Salary  Gender\n",
       "0  25.0  50000.0    Male\n",
       "1  30.0  52000.0  Female\n",
       "2  35.0  54000.0    Male\n",
       "3  40.0  56000.0    Male\n",
       "4  45.0  58000.0  Female"
      ]
     },
     "execution_count": 4,
     "metadata": {},
     "output_type": "execute_result"
    }
   ],
   "source": [
    "df1.head()"
   ]
  },
  {
   "cell_type": "code",
   "execution_count": 5,
   "id": "d262cdea-e057-469f-82e3-2605f7ee03e3",
   "metadata": {},
   "outputs": [
    {
     "data": {
      "text/plain": [
       "Age       1\n",
       "Salary    1\n",
       "Gender    1\n",
       "dtype: int64"
      ]
     },
     "execution_count": 5,
     "metadata": {},
     "output_type": "execute_result"
    }
   ],
   "source": [
    "## Finding missing values in a data\n",
    "df1.isna().sum()"
   ]
  },
  {
   "cell_type": "markdown",
   "id": "d4e625d8-8a66-43c8-b469-d6d5cb836cca",
   "metadata": {},
   "source": [
    "### In a data misiing value is 1 in each columns"
   ]
  },
  {
   "cell_type": "code",
   "execution_count": 6,
   "id": "69026eb7-5bf7-4343-b687-c0b7cc06aeef",
   "metadata": {},
   "outputs": [
    {
     "data": {
      "text/plain": [
       "count        9.000000\n",
       "mean     58444.444444\n",
       "std       6146.362972\n",
       "min      50000.000000\n",
       "25%      54000.000000\n",
       "50%      58000.000000\n",
       "75%      62000.000000\n",
       "max      68000.000000\n",
       "Name: Salary, dtype: float64"
      ]
     },
     "execution_count": 6,
     "metadata": {},
     "output_type": "execute_result"
    }
   ],
   "source": [
    "df1['Salary'].describe()"
   ]
  },
  {
   "cell_type": "code",
   "execution_count": 17,
   "id": "3a4d5f6d-1b3a-4bb0-976c-104c8c109cb4",
   "metadata": {},
   "outputs": [
    {
     "data": {
      "image/png": "[encoded data removed]",
      "text/plain": [
       "<Figure size 500x300 with 1 Axes>"
      ]
     },
     "metadata": {},
     "output_type": "display_data"
    }
   ],
   "source": [
    "plt.figure(figsize=[5,3])\n",
    "sns.kdeplot(df1['Salary'])\n",
    "plt.xlabel('Salary')\n",
    "plt.ylabel('Density')\n",
    "plt.title('Salary Density Plot')\n",
    "plt.show()"
   ]
  },
  {
   "cell_type": "markdown",
   "id": "57430560-dc19-4c42-bc9b-3ad582e81175",
   "metadata": {},
   "source": [
    "### uniform distribution and Numeric data, symmetric distribution\n",
    "### use mean for fill NaN values"
   ]
  },
  {
   "cell_type": "code",
   "execution_count": 15,
   "id": "b8565ecb-b9d8-4d1a-b76c-0a3e1ddfa435",
   "metadata": {},
   "outputs": [],
   "source": [
    "df1['Salary'].fillna(df1['Salary'].mean(),inplace=True)"
   ]
  },
  {
   "cell_type": "code",
   "execution_count": 16,
   "id": "838fc80f-768c-4e91-b03a-1dd303cc34c0",
   "metadata": {},
   "outputs": [
    {
     "data": {
      "text/plain": [
       "Age       1\n",
       "Salary    0\n",
       "Gender    1\n",
       "dtype: int64"
      ]
     },
     "execution_count": 16,
     "metadata": {},
     "output_type": "execute_result"
    }
   ],
   "source": [
    "df1.isna().sum()"
   ]
  },
  {
   "cell_type": "markdown",
   "id": "632d03f5-7d1d-4862-9e15-0a0c442d87e0",
   "metadata": {},
   "source": [
    "# median"
   ]
  },
  {
   "cell_type": "code",
   "execution_count": 20,
   "id": "dafdf70c-20c3-4077-9345-6413438fa208",
   "metadata": {},
   "outputs": [
    {
     "data": {
      "text/html": [
       "<div>\n",
       "<style scoped>\n",
       "    .dataframe tbody tr th:only-of-type {\n",
       "        vertical-align: middle;\n",
       "    }\n",
       "\n",
       "    .dataframe tbody tr th {\n",
       "        vertical-align: top;\n",
       "    }\n",
       "\n",
       "    .dataframe thead th {\n",
       "        text-align: right;\n",
       "    }\n",
       "</style>\n",
       "<table border=\"1\" class=\"dataframe\">\n",
       "  <thead>\n",
       "    <tr style=\"text-align: right;\">\n",
       "      <th></th>\n",
       "      <th>Age</th>\n",
       "      <th>Salary</th>\n",
       "      <th>Gender</th>\n",
       "    </tr>\n",
       "  </thead>\n",
       "  <tbody>\n",
       "    <tr>\n",
       "      <th>0</th>\n",
       "      <td>25.0</td>\n",
       "      <td>37039.0</td>\n",
       "      <td>Male</td>\n",
       "    </tr>\n",
       "    <tr>\n",
       "      <th>1</th>\n",
       "      <td>30.0</td>\n",
       "      <td>75152.0</td>\n",
       "      <td>Female</td>\n",
       "    </tr>\n",
       "    <tr>\n",
       "      <th>2</th>\n",
       "      <td>35.0</td>\n",
       "      <td>49751.0</td>\n",
       "      <td>Male</td>\n",
       "    </tr>\n",
       "    <tr>\n",
       "      <th>3</th>\n",
       "      <td>40.0</td>\n",
       "      <td>43694.0</td>\n",
       "      <td>Male</td>\n",
       "    </tr>\n",
       "    <tr>\n",
       "      <th>4</th>\n",
       "      <td>45.0</td>\n",
       "      <td>32544.0</td>\n",
       "      <td>Female</td>\n",
       "    </tr>\n",
       "    <tr>\n",
       "      <th>5</th>\n",
       "      <td>NaN</td>\n",
       "      <td>32544.0</td>\n",
       "      <td>Male</td>\n",
       "    </tr>\n",
       "    <tr>\n",
       "      <th>6</th>\n",
       "      <td>55.0</td>\n",
       "      <td>30898.0</td>\n",
       "      <td>Female</td>\n",
       "    </tr>\n",
       "    <tr>\n",
       "      <th>7</th>\n",
       "      <td>60.0</td>\n",
       "      <td>NaN</td>\n",
       "      <td>Female</td>\n",
       "    </tr>\n",
       "    <tr>\n",
       "      <th>8</th>\n",
       "      <td>65.0</td>\n",
       "      <td>60168.0</td>\n",
       "      <td>Male</td>\n",
       "    </tr>\n",
       "    <tr>\n",
       "      <th>9</th>\n",
       "      <td>70.0</td>\n",
       "      <td>43786.0</td>\n",
       "      <td>NaN</td>\n",
       "    </tr>\n",
       "  </tbody>\n",
       "</table>\n",
       "</div>"
      ],
      "text/plain": [
       "    Age   Salary  Gender\n",
       "0  25.0  37039.0    Male\n",
       "1  30.0  75152.0  Female\n",
       "2  35.0  49751.0    Male\n",
       "3  40.0  43694.0    Male\n",
       "4  45.0  32544.0  Female\n",
       "5   NaN  32544.0    Male\n",
       "6  55.0  30898.0  Female\n",
       "7  60.0      NaN  Female\n",
       "8  65.0  60168.0    Male\n",
       "9  70.0  43786.0     NaN"
      ]
     },
     "execution_count": 20,
     "metadata": {},
     "output_type": "execute_result"
    }
   ],
   "source": [
    "import pandas as pd\n",
    "import numpy as np\n",
    "\n",
    "df1 = pd.DataFrame({\n",
    "    'Age': [25, 30, 35, 40, 45, np.nan, 55, 60, 65, 70],\n",
    "    'Salary': [50000, 52000, 54000, 56000, 58000, 60000, 62000, np.nan, 66000, 68000],\n",
    "    'Gender': ['Male', 'Female', 'Male', 'Male', 'Female', 'Male', 'Female', 'Female', 'Male', np.nan]\n",
    "})\n",
    "\n",
    "# Create right-skewed salary data with one NaN\n",
    "np.random.seed(42)\n",
    "skewed_salary = np.random.exponential(scale=15000, size=9) + 30000  # 9 values\n",
    "skewed_salary = np.round(skewed_salary, 0)\n",
    "salary_with_nan = list(skewed_salary)[:7] + [np.nan] + list(skewed_salary)[7:]\n",
    "\n",
    "# Replace Salary column\n",
    "df1['Salary'] = salary_with_nan\n",
    "\n",
    "df1\n"
   ]
  },
  {
   "cell_type": "code",
   "execution_count": 36,
   "id": "11457735-f188-4492-8038-d95f72ac4510",
   "metadata": {},
   "outputs": [
    {
     "data": {
      "image/png": "[encoded data removed]",
      "text/plain": [
       "<Figure size 500x300 with 1 Axes>"
      ]
     },
     "metadata": {},
     "output_type": "display_data"
    }
   ],
   "source": [
    "plt.figure(figsize=[5,3])\n",
    "sns.kdeplot(df1['Salary'],shade=True)\n",
    "plt.xlabel('Salary')\n",
    "plt.ylabel('Density')\n",
    "plt.title('Salary Density Plot')\n",
    "plt.show()"
   ]
  },
  {
   "cell_type": "code",
   "execution_count": 23,
   "id": "fdfdc3ed-ba74-45e7-8647-3a8405318813",
   "metadata": {},
   "outputs": [],
   "source": [
    "df1['Salary'].fillna(df1['Salary'].median(),inplace=True)"
   ]
  },
  {
   "cell_type": "markdown",
   "id": "6a96511a-eaf4-4a51-82c2-25b4e03c4567",
   "metadata": {},
   "source": [
    "# For Categorical data"
   ]
  },
  {
   "cell_type": "code",
   "execution_count": 30,
   "id": "a319073c-ed0a-4127-816e-1d8f8ed69455",
   "metadata": {},
   "outputs": [
    {
     "data": {
      "text/plain": [
       "Age       1\n",
       "Salary    0\n",
       "Gender    1\n",
       "dtype: int64"
      ]
     },
     "execution_count": 30,
     "metadata": {},
     "output_type": "execute_result"
    }
   ],
   "source": [
    "df1.isna().sum()"
   ]
  },
  {
   "cell_type": "code",
   "execution_count": 33,
   "id": "6a2267e4-b3ba-41fe-8ab4-3fcad8ba7e92",
   "metadata": {},
   "outputs": [],
   "source": [
    "df1['Gender'].fillna(df1['Gender'].mode()[0],inplace=True)"
   ]
  },
  {
   "cell_type": "code",
   "execution_count": 35,
   "id": "4e6c6b02-f032-44b3-9f57-d499c80c3f9a",
   "metadata": {},
   "outputs": [
    {
     "data": {
      "text/html": [
       "<div>\n",
       "<style scoped>\n",
       "    .dataframe tbody tr th:only-of-type {\n",
       "        vertical-align: middle;\n",
       "    }\n",
       "\n",
       "    .dataframe tbody tr th {\n",
       "        vertical-align: top;\n",
       "    }\n",
       "\n",
       "    .dataframe thead th {\n",
       "        text-align: right;\n",
       "    }\n",
       "</style>\n",
       "<table border=\"1\" class=\"dataframe\">\n",
       "  <thead>\n",
       "    <tr style=\"text-align: right;\">\n",
       "      <th></th>\n",
       "      <th>Age</th>\n",
       "      <th>Salary</th>\n",
       "      <th>Gender</th>\n",
       "    </tr>\n",
       "  </thead>\n",
       "  <tbody>\n",
       "    <tr>\n",
       "      <th>0</th>\n",
       "      <td>25.0</td>\n",
       "      <td>37039.0</td>\n",
       "      <td>Male</td>\n",
       "    </tr>\n",
       "    <tr>\n",
       "      <th>1</th>\n",
       "      <td>30.0</td>\n",
       "      <td>75152.0</td>\n",
       "      <td>Female</td>\n",
       "    </tr>\n",
       "    <tr>\n",
       "      <th>2</th>\n",
       "      <td>35.0</td>\n",
       "      <td>49751.0</td>\n",
       "      <td>Male</td>\n",
       "    </tr>\n",
       "    <tr>\n",
       "      <th>3</th>\n",
       "      <td>40.0</td>\n",
       "      <td>43694.0</td>\n",
       "      <td>Male</td>\n",
       "    </tr>\n",
       "    <tr>\n",
       "      <th>4</th>\n",
       "      <td>45.0</td>\n",
       "      <td>32544.0</td>\n",
       "      <td>Female</td>\n",
       "    </tr>\n",
       "    <tr>\n",
       "      <th>5</th>\n",
       "      <td>NaN</td>\n",
       "      <td>32544.0</td>\n",
       "      <td>Male</td>\n",
       "    </tr>\n",
       "    <tr>\n",
       "      <th>6</th>\n",
       "      <td>55.0</td>\n",
       "      <td>30898.0</td>\n",
       "      <td>Female</td>\n",
       "    </tr>\n",
       "    <tr>\n",
       "      <th>7</th>\n",
       "      <td>60.0</td>\n",
       "      <td>43694.0</td>\n",
       "      <td>Female</td>\n",
       "    </tr>\n",
       "    <tr>\n",
       "      <th>8</th>\n",
       "      <td>65.0</td>\n",
       "      <td>60168.0</td>\n",
       "      <td>Male</td>\n",
       "    </tr>\n",
       "    <tr>\n",
       "      <th>9</th>\n",
       "      <td>70.0</td>\n",
       "      <td>43786.0</td>\n",
       "      <td>Male</td>\n",
       "    </tr>\n",
       "  </tbody>\n",
       "</table>\n",
       "</div>"
      ],
      "text/plain": [
       "    Age   Salary  Gender\n",
       "0  25.0  37039.0    Male\n",
       "1  30.0  75152.0  Female\n",
       "2  35.0  49751.0    Male\n",
       "3  40.0  43694.0    Male\n",
       "4  45.0  32544.0  Female\n",
       "5   NaN  32544.0    Male\n",
       "6  55.0  30898.0  Female\n",
       "7  60.0  43694.0  Female\n",
       "8  65.0  60168.0    Male\n",
       "9  70.0  43786.0    Male"
      ]
     },
     "execution_count": 35,
     "metadata": {},
     "output_type": "execute_result"
    }
   ],
   "source": [
    "df1"
   ]
  },
  {
   "cell_type": "markdown",
   "id": "ee6b2fef-82b7-4193-bf75-ff9cf3bec282",
   "metadata": {},
   "source": [
    "# 2. Statistical / Interpolation Techniques — Uses data trends"
   ]
  },
  {
   "cell_type": "markdown",
   "id": "54ff3fa5-5bd9-464a-b9cb-15ef9be05b31",
   "metadata": {},
   "source": [
    "| Method                                | Description                                                   | When to Use                       |\n",
    "| ------------------------------------- | ------------------------------------------------------------- | --------------------------------- |\n",
    "| **Forward Fill (ffill)**              | Fill missing values with the previous row value               | Time series or sequential data    |\n",
    "| **Backward Fill (bfill)**             | Fill missing values with the next row value                   | Time series or sequential data    |\n",
    "| **Linear Interpolation**              | Estimates missing values based on a line between known points | Continuous numeric data           |\n",
    "| **Polynomial / Spline Interpolation** | Fits a curve to estimate missing values                       | Non-linear trends in numeric data |"
   ]
  },
  {
   "cell_type": "code",
   "execution_count": 40,
   "id": "552c20b7-bf76-4ede-bea0-1d144d703f0b",
   "metadata": {},
   "outputs": [
    {
     "data": {
      "text/html": [
       "<div>\n",
       "<style scoped>\n",
       "    .dataframe tbody tr th:only-of-type {\n",
       "        vertical-align: middle;\n",
       "    }\n",
       "\n",
       "    .dataframe tbody tr th {\n",
       "        vertical-align: top;\n",
       "    }\n",
       "\n",
       "    .dataframe thead th {\n",
       "        text-align: right;\n",
       "    }\n",
       "</style>\n",
       "<table border=\"1\" class=\"dataframe\">\n",
       "  <thead>\n",
       "    <tr style=\"text-align: right;\">\n",
       "      <th></th>\n",
       "      <th>Day</th>\n",
       "      <th>Temp</th>\n",
       "    </tr>\n",
       "  </thead>\n",
       "  <tbody>\n",
       "    <tr>\n",
       "      <th>0</th>\n",
       "      <td>1</td>\n",
       "      <td>30.0</td>\n",
       "    </tr>\n",
       "    <tr>\n",
       "      <th>1</th>\n",
       "      <td>2</td>\n",
       "      <td>32.0</td>\n",
       "    </tr>\n",
       "    <tr>\n",
       "      <th>2</th>\n",
       "      <td>3</td>\n",
       "      <td>NaN</td>\n",
       "    </tr>\n",
       "    <tr>\n",
       "      <th>3</th>\n",
       "      <td>4</td>\n",
       "      <td>35.0</td>\n",
       "    </tr>\n",
       "    <tr>\n",
       "      <th>4</th>\n",
       "      <td>5</td>\n",
       "      <td>NaN</td>\n",
       "    </tr>\n",
       "  </tbody>\n",
       "</table>\n",
       "</div>"
      ],
      "text/plain": [
       "   Day  Temp\n",
       "0    1  30.0\n",
       "1    2  32.0\n",
       "2    3   NaN\n",
       "3    4  35.0\n",
       "4    5   NaN"
      ]
     },
     "execution_count": 40,
     "metadata": {},
     "output_type": "execute_result"
    }
   ],
   "source": [
    "data = {'Day':range(1,11),\n",
    "        'Temp':[30,32,np.nan,35,np.nan,40,42,np.nan,45,47]}\n",
    "df = pd.DataFrame(data)\n",
    "df.head()"
   ]
  },
  {
   "cell_type": "markdown",
   "id": "ea391149-baab-407a-901a-e0e43ca2551a",
   "metadata": {},
   "source": [
    "## ffill ()"
   ]
  },
  {
   "cell_type": "code",
   "execution_count": 43,
   "id": "410f0a45-029a-438b-84e9-bc19f8c8dd77",
   "metadata": {},
   "outputs": [
    {
     "data": {
      "text/html": [
       "<div>\n",
       "<style scoped>\n",
       "    .dataframe tbody tr th:only-of-type {\n",
       "        vertical-align: middle;\n",
       "    }\n",
       "\n",
       "    .dataframe tbody tr th {\n",
       "        vertical-align: top;\n",
       "    }\n",
       "\n",
       "    .dataframe thead th {\n",
       "        text-align: right;\n",
       "    }\n",
       "</style>\n",
       "<table border=\"1\" class=\"dataframe\">\n",
       "  <thead>\n",
       "    <tr style=\"text-align: right;\">\n",
       "      <th></th>\n",
       "      <th>Day</th>\n",
       "      <th>Temp</th>\n",
       "    </tr>\n",
       "  </thead>\n",
       "  <tbody>\n",
       "    <tr>\n",
       "      <th>0</th>\n",
       "      <td>1</td>\n",
       "      <td>30.0</td>\n",
       "    </tr>\n",
       "    <tr>\n",
       "      <th>1</th>\n",
       "      <td>2</td>\n",
       "      <td>32.0</td>\n",
       "    </tr>\n",
       "    <tr>\n",
       "      <th>2</th>\n",
       "      <td>3</td>\n",
       "      <td>32.0</td>\n",
       "    </tr>\n",
       "    <tr>\n",
       "      <th>3</th>\n",
       "      <td>4</td>\n",
       "      <td>35.0</td>\n",
       "    </tr>\n",
       "    <tr>\n",
       "      <th>4</th>\n",
       "      <td>5</td>\n",
       "      <td>35.0</td>\n",
       "    </tr>\n",
       "  </tbody>\n",
       "</table>\n",
       "</div>"
      ],
      "text/plain": [
       "   Day  Temp\n",
       "0    1  30.0\n",
       "1    2  32.0\n",
       "2    3  32.0\n",
       "3    4  35.0\n",
       "4    5  35.0"
      ]
     },
     "execution_count": 43,
     "metadata": {},
     "output_type": "execute_result"
    }
   ],
   "source": [
    "df_ffill = df.copy()\n",
    "df_ffill['Temp']=df_ffill['Temp'].fillna(method='ffill')\n",
    "df_ffill.head()"
   ]
  },
  {
   "cell_type": "markdown",
   "id": "51c7d16f-6fbd-45d6-825f-4d02db959ba2",
   "metadata": {},
   "source": [
    "## bfill()"
   ]
  },
  {
   "cell_type": "code",
   "execution_count": 44,
   "id": "f63e2fe4-6c9b-438c-b300-1fa59631e0ef",
   "metadata": {},
   "outputs": [],
   "source": [
    "df_bfill = df.copy()\n",
    "df_bfill['Temp'] = df_bfill['Temp'].fillna(method='bfill')"
   ]
  },
  {
   "cell_type": "code",
   "execution_count": 46,
   "id": "ee18ade3-2a4b-4d29-97c4-80023bd8e850",
   "metadata": {},
   "outputs": [
    {
     "data": {
      "text/html": [
       "<div>\n",
       "<style scoped>\n",
       "    .dataframe tbody tr th:only-of-type {\n",
       "        vertical-align: middle;\n",
       "    }\n",
       "\n",
       "    .dataframe tbody tr th {\n",
       "        vertical-align: top;\n",
       "    }\n",
       "\n",
       "    .dataframe thead th {\n",
       "        text-align: right;\n",
       "    }\n",
       "</style>\n",
       "<table border=\"1\" class=\"dataframe\">\n",
       "  <thead>\n",
       "    <tr style=\"text-align: right;\">\n",
       "      <th></th>\n",
       "      <th>Day</th>\n",
       "      <th>Temp</th>\n",
       "    </tr>\n",
       "  </thead>\n",
       "  <tbody>\n",
       "    <tr>\n",
       "      <th>0</th>\n",
       "      <td>1</td>\n",
       "      <td>30.0</td>\n",
       "    </tr>\n",
       "    <tr>\n",
       "      <th>1</th>\n",
       "      <td>2</td>\n",
       "      <td>32.0</td>\n",
       "    </tr>\n",
       "    <tr>\n",
       "      <th>2</th>\n",
       "      <td>3</td>\n",
       "      <td>35.0</td>\n",
       "    </tr>\n",
       "    <tr>\n",
       "      <th>3</th>\n",
       "      <td>4</td>\n",
       "      <td>35.0</td>\n",
       "    </tr>\n",
       "    <tr>\n",
       "      <th>4</th>\n",
       "      <td>5</td>\n",
       "      <td>40.0</td>\n",
       "    </tr>\n",
       "  </tbody>\n",
       "</table>\n",
       "</div>"
      ],
      "text/plain": [
       "   Day  Temp\n",
       "0    1  30.0\n",
       "1    2  32.0\n",
       "2    3  35.0\n",
       "3    4  35.0\n",
       "4    5  40.0"
      ]
     },
     "execution_count": 46,
     "metadata": {},
     "output_type": "execute_result"
    }
   ],
   "source": [
    "df_bfill.head()"
   ]
  },
  {
   "cell_type": "markdown",
   "id": "d83fdfa0-fa70-47c2-8bd2-a9320908a342",
   "metadata": {},
   "source": [
    "### df[col_name].interpolate()\n",
    "- Estimates missing values by connecting known points with a straight line.\n",
    "- Best for numeric data with linear trend."
   ]
  },
  {
   "cell_type": "code",
   "execution_count": 67,
   "id": "f1a3efd3-1e02-4128-b2d9-8840482f4308",
   "metadata": {},
   "outputs": [
    {
     "data": {
      "text/html": [
       "<div>\n",
       "<style scoped>\n",
       "    .dataframe tbody tr th:only-of-type {\n",
       "        vertical-align: middle;\n",
       "    }\n",
       "\n",
       "    .dataframe tbody tr th {\n",
       "        vertical-align: top;\n",
       "    }\n",
       "\n",
       "    .dataframe thead th {\n",
       "        text-align: right;\n",
       "    }\n",
       "</style>\n",
       "<table border=\"1\" class=\"dataframe\">\n",
       "  <thead>\n",
       "    <tr style=\"text-align: right;\">\n",
       "      <th></th>\n",
       "      <th>Day</th>\n",
       "      <th>Temp</th>\n",
       "    </tr>\n",
       "  </thead>\n",
       "  <tbody>\n",
       "    <tr>\n",
       "      <th>0</th>\n",
       "      <td>1</td>\n",
       "      <td>30.0</td>\n",
       "    </tr>\n",
       "    <tr>\n",
       "      <th>1</th>\n",
       "      <td>2</td>\n",
       "      <td>32.0</td>\n",
       "    </tr>\n",
       "    <tr>\n",
       "      <th>2</th>\n",
       "      <td>3</td>\n",
       "      <td>33.5</td>\n",
       "    </tr>\n",
       "    <tr>\n",
       "      <th>3</th>\n",
       "      <td>4</td>\n",
       "      <td>35.0</td>\n",
       "    </tr>\n",
       "    <tr>\n",
       "      <th>4</th>\n",
       "      <td>5</td>\n",
       "      <td>37.5</td>\n",
       "    </tr>\n",
       "  </tbody>\n",
       "</table>\n",
       "</div>"
      ],
      "text/plain": [
       "   Day  Temp\n",
       "0    1  30.0\n",
       "1    2  32.0\n",
       "2    3  33.5\n",
       "3    4  35.0\n",
       "4    5  37.5"
      ]
     },
     "execution_count": 67,
     "metadata": {},
     "output_type": "execute_result"
    }
   ],
   "source": [
    "df_linear = df.copy()\n",
    "df_linear['Temp'] = df_linear['Temp'].interpolate(method='linear')\n",
    "df_linear.head()"
   ]
  },
  {
   "cell_type": "code",
   "execution_count": 56,
   "id": "0fdeeecd-b003-49bc-8604-466d53a28737",
   "metadata": {},
   "outputs": [
    {
     "data": {
      "image/png": "[encoded data removed]",
      "text/plain": [
       "<Figure size 640x480 with 1 Axes>"
      ]
     },
     "metadata": {},
     "output_type": "display_data"
    }
   ],
   "source": [
    "# Load the image\n",
    "img = mpimg.imread(\"formula.jpg\")\n",
    "\n",
    "# Display the image\n",
    "plt.imshow(img)\n",
    "plt.axis('off')  # Hide axis\n",
    "plt.show()"
   ]
  },
  {
   "cell_type": "code",
   "execution_count": 71,
   "id": "96c39aee-930f-4f12-9a08-be48a879de7d",
   "metadata": {},
   "outputs": [
    {
     "data": {
      "text/html": [
       "<div>\n",
       "<style scoped>\n",
       "    .dataframe tbody tr th:only-of-type {\n",
       "        vertical-align: middle;\n",
       "    }\n",
       "\n",
       "    .dataframe tbody tr th {\n",
       "        vertical-align: top;\n",
       "    }\n",
       "\n",
       "    .dataframe thead th {\n",
       "        text-align: right;\n",
       "    }\n",
       "</style>\n",
       "<table border=\"1\" class=\"dataframe\">\n",
       "  <thead>\n",
       "    <tr style=\"text-align: right;\">\n",
       "      <th></th>\n",
       "      <th>Day</th>\n",
       "      <th>Temp</th>\n",
       "    </tr>\n",
       "  </thead>\n",
       "  <tbody>\n",
       "    <tr>\n",
       "      <th>0</th>\n",
       "      <td>1</td>\n",
       "      <td>30.0</td>\n",
       "    </tr>\n",
       "    <tr>\n",
       "      <th>1</th>\n",
       "      <td>2</td>\n",
       "      <td>32.0</td>\n",
       "    </tr>\n",
       "    <tr>\n",
       "      <th>2</th>\n",
       "      <td>3</td>\n",
       "      <td>NaN</td>\n",
       "    </tr>\n",
       "    <tr>\n",
       "      <th>3</th>\n",
       "      <td>4</td>\n",
       "      <td>35.0</td>\n",
       "    </tr>\n",
       "    <tr>\n",
       "      <th>4</th>\n",
       "      <td>5</td>\n",
       "      <td>NaN</td>\n",
       "    </tr>\n",
       "  </tbody>\n",
       "</table>\n",
       "</div>"
      ],
      "text/plain": [
       "   Day  Temp\n",
       "0    1  30.0\n",
       "1    2  32.0\n",
       "2    3   NaN\n",
       "3    4  35.0\n",
       "4    5   NaN"
      ]
     },
     "execution_count": 71,
     "metadata": {},
     "output_type": "execute_result"
    }
   ],
   "source": [
    "df.head()"
   ]
  },
  {
   "cell_type": "code",
   "execution_count": 58,
   "id": "5a9a5e78-b74d-4c52-bd39-ac00dc8669c3",
   "metadata": {},
   "outputs": [],
   "source": [
    "df_inter = df.copy()\n",
    "# We need to find the missing value for the 3rd row or record."
   ]
  },
  {
   "cell_type": "code",
   "execution_count": 62,
   "id": "3a58e0f6-0590-498b-a07e-df2ca574de19",
   "metadata": {},
   "outputs": [
    {
     "data": {
      "text/plain": [
       "33.5"
      ]
     },
     "execution_count": 62,
     "metadata": {},
     "output_type": "execute_result"
    }
   ],
   "source": [
    "x1, x2 = 1, 3\n",
    "y1, y2 = 32, 35\n",
    "x = 2\n",
    "y = y1 + ((x - x1) / (x2 - x1)) * (y2 - y1)\n",
    "y"
   ]
  },
  {
   "cell_type": "code",
   "execution_count": 72,
   "id": "744295d5-bb2b-483f-9522-1e4108bc55dc",
   "metadata": {},
   "outputs": [
    {
     "data": {
      "image/png": "[encoded data removed]",
      "text/plain": [
       "<Figure size 500x400 with 1 Axes>"
      ]
     },
     "metadata": {},
     "output_type": "display_data"
    }
   ],
   "source": [
    "plt.figure(figsize=(5,4))\n",
    "x = df_inter['Day']\n",
    "y = df_inter['Temp']\n",
    "plt.plot(x,y)\n",
    "plt.xticks([1,2,3,4,5,6,7,8,9,10])\n",
    "plt.show()"
   ]
  },
  {
   "cell_type": "markdown",
   "id": "4258ae54-a158-40e6-969d-14ea05d03339",
   "metadata": {},
   "source": [
    "### Polynomial / Spline Interpolation\n",
    "- Polynomial interpolation is useful when the relationship between data points is non-linear (curved trend instead of straight line)."
   ]
  },
  {
   "cell_type": "code",
   "execution_count": 76,
   "id": "76ffb916-77e1-40a1-861f-e3fe9e5a2323",
   "metadata": {},
   "outputs": [
    {
     "data": {
      "text/html": [
       "<div>\n",
       "<style scoped>\n",
       "    .dataframe tbody tr th:only-of-type {\n",
       "        vertical-align: middle;\n",
       "    }\n",
       "\n",
       "    .dataframe tbody tr th {\n",
       "        vertical-align: top;\n",
       "    }\n",
       "\n",
       "    .dataframe thead th {\n",
       "        text-align: right;\n",
       "    }\n",
       "</style>\n",
       "<table border=\"1\" class=\"dataframe\">\n",
       "  <thead>\n",
       "    <tr style=\"text-align: right;\">\n",
       "      <th></th>\n",
       "      <th>Day</th>\n",
       "      <th>Temp</th>\n",
       "    </tr>\n",
       "  </thead>\n",
       "  <tbody>\n",
       "    <tr>\n",
       "      <th>0</th>\n",
       "      <td>1</td>\n",
       "      <td>30.000000</td>\n",
       "    </tr>\n",
       "    <tr>\n",
       "      <th>1</th>\n",
       "      <td>2</td>\n",
       "      <td>32.000000</td>\n",
       "    </tr>\n",
       "    <tr>\n",
       "      <th>2</th>\n",
       "      <td>3</td>\n",
       "      <td>33.428249</td>\n",
       "    </tr>\n",
       "    <tr>\n",
       "      <th>3</th>\n",
       "      <td>4</td>\n",
       "      <td>35.000000</td>\n",
       "    </tr>\n",
       "    <tr>\n",
       "      <th>4</th>\n",
       "      <td>5</td>\n",
       "      <td>37.430503</td>\n",
       "    </tr>\n",
       "  </tbody>\n",
       "</table>\n",
       "</div>"
      ],
      "text/plain": [
       "   Day       Temp\n",
       "0    1  30.000000\n",
       "1    2  32.000000\n",
       "2    3  33.428249\n",
       "3    4  35.000000\n",
       "4    5  37.430503"
      ]
     },
     "execution_count": 76,
     "metadata": {},
     "output_type": "execute_result"
    }
   ],
   "source": [
    "df_pol = df.copy()\n",
    "df_pol['Temp'] = df_pol['Temp'].interpolate(method='polynomial',order=2)\n",
    "df_pol.head()"
   ]
  },
  {
   "cell_type": "markdown",
   "id": "46eeac05-ec22-4f5f-bcea-6c3d20f9cb67",
   "metadata": {},
   "source": [
    "# Advanced Model-Based Imputation — Captures complex patterns"
   ]
  },
  {
   "cell_type": "markdown",
   "id": "bf418fc0-e401-427d-ac6d-7544f33b4ad7",
   "metadata": {},
   "source": [
    "| Method                      | Description                                                                      | When to Use                                    |\n",
    "| --------------------------- | -------------------------------------------------------------------------------- | ---------------------------------------------- |\n",
    "| **KNN Imputation**          | Uses k-nearest neighbors to fill missing values based on similarity              | Mixed numeric/categorical data                 |\n",
    "| **Regression Imputation**   | Predicts missing values using regression models                                  | Numeric data with strong feature relationships |\n",
    "| **Multiple Imputation**     | Creates several datasets with different imputations and averages results         | When you want uncertainty estimation           |\n",
    "| **Machine Learning Models** | Use decision trees, random forest, or other algorithms to predict missing values | Complex datasets                               |\n"
   ]
  },
  {
   "cell_type": "markdown",
   "id": "b1cd45ba-df23-4716-b5d8-ea3772ebc800",
   "metadata": {},
   "source": [
    "### Choosing the Right Method\n",
    "\n",
    "- **Small missing % (<5%)** → Simple methods (mean/median/mode)\n",
    "- **Time-series** → Forward/backward fill, interpolation\n",
    "- **Mixed data types & patterns** → KNN, regression\n",
    "- **High missingness (>30%)** → Consider dropping columns or advanced ML methods"
   ]
  },
  {
   "cell_type": "markdown",
   "id": "f541094d-b166-4932-98f1-f4f3fa2d4706",
   "metadata": {},
   "source": [
    "# Best Practices and Considerations.\n",
    "- **Understand Data Context:**\n",
    "  - Assess the significance of missing values and decide whether removal or imputation is appropriate.\n",
    "- **Document Imputation Strategies:**\n",
    "  - Keep records of the methods used (why a particular value was chosen) to ensure reproducibility.\n",
    "- **Combine Strategies if Needed:**\n",
    "  - Sometimes, a combination of dropping and imputing is necessary based on the nature and volume of missing data.\n",
    "- **Mind Data Types:**\n",
    "  - Ensure that the chosen method (especially imputation) respects the data types in your DataFrame."
   ]
  },
  {
   "cell_type": "code",
   "execution_count": null,
   "id": "3cb64b71-6f3c-481d-aa93-4ada455b148c",
   "metadata": {},
   "outputs": [],
   "source": []
  }
 ],
 "metadata": {
  "kernelspec": {
   "display_name": "Python 3 (ipykernel)",
   "language": "python",
   "name": "python3"
  },
  "language_info": {
   "codemirror_mode": {
    "name": "ipython",
    "version": 3
   },
   "file_extension": ".py",
   "mimetype": "text/x-python",
   "name": "python",
   "nbconvert_exporter": "python",
   "pygments_lexer": "ipython3",
   "version": "3.13.5"
  }
 },
 "nbformat": 4,
 "nbformat_minor": 5
}
